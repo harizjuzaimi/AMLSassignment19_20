{
 "cells": [
  {
   "cell_type": "code",
   "execution_count": 1,
   "metadata": {
    "collapsed": true
   },
   "outputs": [
    {
     "name": "stdout",
     "output_type": "stream",
     "text": [
      "Wall time: 0 ns\nC:\\Users\\arez_\\PycharmProjects\\AMLS_19-20_Muhammad_Juzaimi_SN16072927\n"
     ]
    }
   ],
   "source": [
    "%time\n",
    "\n",
    "import os\n",
    "\n",
    "print(os.path.abspath(os.curdir))"
   ]
  },
  {
   "cell_type": "code",
   "execution_count": 2,
   "metadata": {},
   "outputs": [
    {
     "name": "stdout",
     "output_type": "stream",
     "text": [
      "C:\\Users\\arez_\\PycharmProjects\\AMLS_19-20_Muhammad_Juzaimi_SN16072927\\AMLS_19-20_SN16072927\n"
     ]
    }
   ],
   "source": [
    "os.chdir('./AMLS_19-20_SN16072927')\n",
    "# os.chdir('..')\n",
    "print(os.path.abspath(os.curdir))"
   ]
  },
  {
   "cell_type": "code",
   "execution_count": 3,
   "metadata": {},
   "outputs": [],
   "source": [
    "from sklearn.model_selection import train_test_split\n",
    "import pickle\n",
    "\n",
    "def get_data():\n",
    "\n",
    "    with open('X_B1_saved.dat', 'rb') as f:\n",
    "        X_B1_load = pickle.load(f)\n",
    "    \n",
    "    with open('Y_B1_saved.dat', 'rb') as f:\n",
    "        Y_B1_load = pickle.load(f)\n",
    "    \n",
    "    tr_X_B1, te_X_B1, tr_Y_B1, te_Y_B1 = train_test_split(X_B1_load, Y_B1_load, test_size=0.3)\n",
    "\n",
    "    return tr_X_B1, te_X_B1, tr_Y_B1, te_Y_B1"
   ]
  },
  {
   "cell_type": "code",
   "execution_count": 4,
   "metadata": {},
   "outputs": [
    {
     "name": "stdout",
     "output_type": "stream",
     "text": [
      "Wall time: 0 ns\n"
     ]
    }
   ],
   "source": [
    "tr_X_B1, te_X_B1, tr_Y_B1, te_Y_B1 = get_data()"
   ]
  },
  {
   "cell_type": "code",
   "execution_count": 5,
   "metadata": {},
   "outputs": [
    {
     "name": "stdout",
     "output_type": "stream",
     "text": [
      "Wall time: 0 ns\n"
     ]
    }
   ],
   "source": [
    "from sklearn import svm\n",
    "from sklearn.metrics import classification_report, accuracy_score\n",
    "from sklearn.model_selection import GridSearchCV\n",
    "import pandas as pd\n",
    "\n",
    "def SVM_B1(training_images, training_labels, test_images, test_labels):\n",
    "    tuned_parameters = [{'kernel': ['linear'], 'C': [1, 10, 100]},\n",
    "                        {'kernel': ['rbf'], 'gamma': [1e-3, 1e-4], 'C': [1, 10, 100]},\n",
    "                        {'kernel': ['poly'], 'degree': [2, 3], 'C': [1, 10, 100]}\n",
    "                        ]\n",
    "\n",
    "\n",
    "    classifierB1 = GridSearchCV(svm.SVC(), tuned_parameters, n_jobs=-1)  # gridsearchCV use 3 k-fold by default\n",
    "    classifierB1.fit(training_images, training_labels)\n",
    "    print(classifierB1.best_params_)\n",
    "# default score of SVM is accuracy\n",
    "    acc_B1_train = classifierB1.best_score_\n",
    "    \n",
    "    cv_score = classifierB1.cv_results_\n",
    "\n",
    "# prediction using best classifier choose by GridSearchCV\n",
    "    predB1 = classifierB1.best_estimator_.predict(test_images)\n",
    "\n",
    "    acc_B1_test = accuracy_score(test_labels, predB1)\n",
    "    \n",
    "    return acc_B1_train, acc_B1_test, predB1, cv_score"
   ]
  },
  {
   "cell_type": "code",
   "execution_count": 7,
   "metadata": {},
   "outputs": [
    {
     "name": "stdout",
     "output_type": "stream",
     "text": [
      "{'C': 100, 'gamma': 0.001, 'kernel': 'rbf'}\n"
     ]
    },
    {
     "name": "stdout",
     "output_type": "stream",
     "text": [
      "1902.8664407730103\n"
     ]
    }
   ],
   "source": [
    "import time\n",
    "starttime = time.time()\n",
    "model_B1 = SVM_B1(tr_X_B1, tr_Y_B1, te_X_B1, te_Y_B1)\n",
    "stoptime = time.time()\n",
    "print(stoptime - starttime)"
   ]
  },
  {
   "cell_type": "code",
   "execution_count": 29,
   "metadata": {},
   "outputs": [],
   "source": [
    "acc_B1_train, acc_B1_test, predB1, cv_score = model_B1"
   ]
  },
  {
   "cell_type": "code",
   "execution_count": 30,
   "metadata": {},
   "outputs": [
    {
     "name": "stdout",
     "output_type": "stream",
     "text": [
      "TB1:0.7617915904936015,0.7646055437100213\n"
     ]
    }
   ],
   "source": [
    "print('TB1:{},{}'.format(acc_B1_train, acc_B1_test))"
   ]
  },
  {
   "cell_type": "code",
   "execution_count": 32,
   "metadata": {},
   "outputs": [
    {
     "name": "stdout",
     "output_type": "stream",
     "text": [
      "    mean_fit_time  std_fit_time  mean_score_time  std_score_time param_C  \\\n0       15.230469      0.804443         0.521007        0.019712       1   \n1      189.508406     11.175502         0.527589        0.012896      10   \n2     1645.551099     98.258352         0.429047        0.014037     100   \n3        4.984471      0.155355         0.910764        0.025060       1   \n4        7.108989      0.058861         0.988357        0.022943       1   \n5        3.841328      0.077445         0.780911        0.049285      10   \n6        5.241583      0.091612         0.893211        0.014571      10   \n7        4.241658      0.065758         0.608771        0.009197     100   \n8        4.061339      0.100641         0.759968        0.005353     100   \n9        6.432997      0.023222         0.920140        0.028298       1   \n10       6.049023      0.095880         0.856510        0.008795       1   \n11       6.938445      0.032757         0.822401        0.005337      10   \n12       5.694971      0.110580         0.744210        0.011807      10   \n13      14.975552      0.433304         0.737029        0.010230     100   \n14       6.820361      0.175403         0.633705        0.028716     100   \n\n   param_kernel param_gamma param_degree  \\\n0        linear         NaN          NaN   \n1        linear         NaN          NaN   \n2        linear         NaN          NaN   \n3           rbf       0.001          NaN   \n4           rbf      0.0001          NaN   \n5           rbf       0.001          NaN   \n6           rbf      0.0001          NaN   \n7           rbf       0.001          NaN   \n8           rbf      0.0001          NaN   \n9          poly         NaN            2   \n10         poly         NaN            3   \n11         poly         NaN            2   \n12         poly         NaN            3   \n13         poly         NaN            2   \n14         poly         NaN            3   \n\n                                          params  split0_test_score  \\\n0                   {'C': 1, 'kernel': 'linear'}           0.720293   \n1                  {'C': 10, 'kernel': 'linear'}           0.703839   \n2                 {'C': 100, 'kernel': 'linear'}           0.699269   \n3      {'C': 1, 'gamma': 0.001, 'kernel': 'rbf'}           0.641682   \n4     {'C': 1, 'gamma': 0.0001, 'kernel': 'rbf'}           0.460695   \n5     {'C': 10, 'gamma': 0.001, 'kernel': 'rbf'}           0.754113   \n6    {'C': 10, 'gamma': 0.0001, 'kernel': 'rbf'}           0.615174   \n7    {'C': 100, 'gamma': 0.001, 'kernel': 'rbf'}           0.766910   \n8   {'C': 100, 'gamma': 0.0001, 'kernel': 'rbf'}           0.732176   \n9        {'C': 1, 'degree': 2, 'kernel': 'poly'}           0.432358   \n10       {'C': 1, 'degree': 3, 'kernel': 'poly'}           0.539305   \n11      {'C': 10, 'degree': 2, 'kernel': 'poly'}           0.560329   \n12      {'C': 10, 'degree': 3, 'kernel': 'poly'}           0.645338   \n13     {'C': 100, 'degree': 2, 'kernel': 'poly'}           0.570384   \n14     {'C': 100, 'degree': 3, 'kernel': 'poly'}           0.657221   \n\n    split1_test_score  split2_test_score  split3_test_score  \\\n0            0.712980           0.755941           0.713894   \n1            0.704753           0.736746           0.706581   \n2            0.702011           0.729433           0.704753   \n3            0.626143           0.667276           0.652651   \n4            0.452468           0.489031           0.482633   \n5            0.739488           0.795247           0.760512   \n6            0.619744           0.670018           0.657221   \n7            0.743144           0.797075           0.764168   \n8            0.719378           0.790676           0.750457   \n9            0.417733           0.443327           0.433272   \n10           0.521024           0.592322           0.556673   \n11           0.553931           0.576782           0.574040   \n12           0.638026           0.696527           0.636197   \n13           0.591408           0.600548           0.589580   \n14           0.637112           0.699269           0.678245   \n\n    split4_test_score  mean_test_score  std_test_score  rank_test_score  \n0            0.728519         0.726325        0.015817                4  \n1            0.712066         0.712797        0.012310                5  \n2            0.718464         0.710786        0.011426                6  \n3            0.653565         0.648263        0.013722                9  \n4            0.452468         0.467459        0.015432               14  \n5            0.736746         0.757221        0.020977                2  \n6            0.660878         0.644607        0.022601               10  \n7            0.737660         0.761792        0.021009                1  \n8            0.740402         0.746618        0.024270                3  \n9            0.414991         0.428336        0.010543               15  \n10           0.579525         0.557770        0.025921               13  \n11           0.557587         0.564534        0.009152               12  \n12           0.649909         0.653199        0.022222                8  \n13           0.581353         0.586654        0.010169               11  \n14           0.668190         0.668007        0.020751                7  \n"
     ]
    }
   ],
   "source": [
    "temp = pd.DataFrame(cv_score)\n",
    "print(temp)"
   ]
  },
  {
   "cell_type": "code",
   "execution_count": 10,
   "metadata": {},
   "outputs": [],
   "source": [
    "import numpy as np\n",
    "import matplotlib.pyplot as plt\n",
    "\n",
    "def plot_learning_curve(estimator, title, X, y, ylim=None, cv=None,\n",
    "                        train_sizes=np.linspace(.1, 1.0, 5)):\n",
    "    \"\"\"\n",
    "    Generate a simple plot of the test and training learning curve.\n",
    "\n",
    "    Parameters\n",
    "    ----------\n",
    "    estimator : object type that implements the \"fit\" and \"predict\" methods\n",
    "        An object of that type which is cloned for each validation.\n",
    "\n",
    "    title : string\n",
    "        Title for the chart.\n",
    "\n",
    "    X : array-like, shape (n_samples, n_features)\n",
    "        Training vector, where n_samples is the number of samples and\n",
    "        n_features is the number of features.\n",
    "\n",
    "    y : array-like, shape (n_samples) or (n_samples, n_features), optional\n",
    "        Target relative to X for classification or regression;\n",
    "        None for unsupervised learning.\n",
    "\n",
    "    ylim : tuple, shape (ymin, ymax), optional\n",
    "        Defines minimum and maximum yvalues plotted.\n",
    "\n",
    "    cv : integer, cross-validation generator, optional\n",
    "        If an integer is passed, it is the number of folds (defaults to 3).\n",
    "        Specific cross-validation objects can be passed, see\n",
    "        sklearn.cross_validation module for the list of possible objects\n",
    "    \"\"\"\n",
    "    \n",
    "    if axes is None:\n",
    "        _, axes = plt.subplots(1, 3, figsize=(20, 5))\n",
    "\n",
    "    axes[0].set_title(title)\n",
    "    if ylim is not None:\n",
    "        axes[0].set_ylim(*ylim)\n",
    "    axes[0].set_xlabel(\"Training examples\")\n",
    "    axes[0].set_ylabel(\"Score\")\n",
    "\n",
    "    train_sizes, train_scores, test_scores, fit_times, _ = \\\n",
    "        learning_curve(estimator, X, y, cv=cv, n_jobs=n_jobs,\n",
    "                       train_sizes=train_sizes,\n",
    "                       return_times=True)\n",
    "    train_scores_mean = np.mean(train_scores, axis=1)\n",
    "    train_scores_std = np.std(train_scores, axis=1)\n",
    "    test_scores_mean = np.mean(test_scores, axis=1)\n",
    "    test_scores_std = np.std(test_scores, axis=1)\n",
    "    fit_times_mean = np.mean(fit_times, axis=1)\n",
    "    fit_times_std = np.std(fit_times, axis=1)\n",
    "    \n",
    "    # Plot learning curve\n",
    "    axes[0].grid()\n",
    "    axes[0].fill_between(train_sizes, train_scores_mean - train_scores_std,\n",
    "                         train_scores_mean + train_scores_std, alpha=0.1,\n",
    "                         color=\"r\")\n",
    "    axes[0].fill_between(train_sizes, test_scores_mean - test_scores_std,\n",
    "                         test_scores_mean + test_scores_std, alpha=0.1,\n",
    "                         color=\"g\")\n",
    "    axes[0].plot(train_sizes, train_scores_mean, 'o-', color=\"r\",\n",
    "                 label=\"Training score\")\n",
    "    axes[0].plot(train_sizes, test_scores_mean, 'o-', color=\"g\",\n",
    "                 label=\"Cross-validation score\")\n",
    "    axes[0].legend(loc=\"best\")\n",
    "\n",
    "    # Plot n_samples vs fit_times\n",
    "    axes[1].grid()\n",
    "    axes[1].plot(train_sizes, fit_times_mean, 'o-')\n",
    "    axes[1].fill_between(train_sizes, fit_times_mean - fit_times_std,\n",
    "                         fit_times_mean + fit_times_std, alpha=0.1)\n",
    "    axes[1].set_xlabel(\"Training examples\")\n",
    "    axes[1].set_ylabel(\"fit_times\")\n",
    "    axes[1].set_title(\"Scalability of the model\")\n",
    "\n",
    "    # Plot fit_time vs score\n",
    "    axes[2].grid()\n",
    "    axes[2].plot(fit_times_mean, test_scores_mean, 'o-')\n",
    "    axes[2].fill_between(fit_times_mean, test_scores_mean - test_scores_std,\n",
    "                         test_scores_mean + test_scores_std, alpha=0.1)\n",
    "    axes[2].set_xlabel(\"fit_times\")\n",
    "    axes[2].set_ylabel(\"Score\")\n",
    "    axes[2].set_title(\"Performance of the model\")\n",
    "\n",
    "    return plt"
   ]
  },
  {
   "cell_type": "code",
   "execution_count": 15,
   "metadata": {},
   "outputs": [
    {
     "data": {
      "image/png": "[encoded data removed]",
      "text/plain": [
       "<Figure size 432x288 with 1 Axes>"
      ]
     },
     "metadata": {},
     "output_type": "display_data"
    }
   ],
   "source": [
    "from sklearn.model_selection import learning_curve\n",
    "from sklearn.model_selection import ShuffleSplit\n",
    "\n",
    "def plot_learning_curve(estimator, title, X, y, ylim=None, cv=None,\n",
    "                        n_jobs=1, train_sizes=np.linspace(.1, 1.0, 5)):\n",
    "    \n",
    "    plt.figure()\n",
    "    plt.title(title)\n",
    "    if ylim is not None:\n",
    "        plt.ylim(*ylim)\n",
    "    plt.xlabel(\"Training examples\")\n",
    "    plt.ylabel(\"Score\")\n",
    "    train_sizes, train_scores, test_scores = learning_curve(\n",
    "        estimator, X, y, cv=cv, n_jobs=n_jobs, train_sizes=train_sizes)\n",
    "    train_scores_mean = np.mean(train_scores, axis=1)\n",
    "    train_scores_std = np.std(train_scores, axis=1)\n",
    "    test_scores_mean = np.mean(test_scores, axis=1)\n",
    "    test_scores_std = np.std(test_scores, axis=1)\n",
    "    plt.grid()\n",
    "\n",
    "    plt.fill_between(train_sizes, train_scores_mean - train_scores_std,\n",
    "                     train_scores_mean + train_scores_std, alpha=0.1,\n",
    "                     color=\"r\")\n",
    "    plt.fill_between(train_sizes, test_scores_mean - test_scores_std,\n",
    "                     test_scores_mean + test_scores_std, alpha=0.1, color=\"g\")\n",
    "    plt.plot(train_sizes, train_scores_mean, 'o-', color=\"r\",\n",
    "             label=\"Training score\")\n",
    "    plt.plot(train_sizes, test_scores_mean, 'o-', color=\"g\",\n",
    "             label=\"Cross-validation score\")\n",
    "\n",
    "    plt.legend(loc=\"best\")\n",
    "    return plt\n",
    "\n",
    "title = \"Learning Curves SVM\"\n",
    "\n",
    "cv = ShuffleSplit(n_splits=100, test_size=0.2, random_state=0)\n",
    "estimator = svm.SVC(kernel='rbf', gamma=1e-3, C=100)\n",
    "X, y = tr_X_B1, tr_Y_B1\n",
    "plot_learning_curve(estimator, title, X, y, (0.5, 1.01), cv=cv, n_jobs=-1)\n",
    "\n",
    "plt.show()\n",
    "\n",
    "# default test score for SVM is accuracy"
   ]
  },
  {
   "cell_type": "code",
   "execution_count": 16,
   "metadata": {},
   "outputs": [
    {
     "name": "stdout",
     "output_type": "stream",
     "text": [
      "[[368  35  29  12  18]\n [ 47 302  23  28  12]\n [ 20  28 399  61  17]\n [ 15  44  49 325  21]\n [ 19  18  34   5 416]]\n"
     ]
    },
    {
     "data": {
      "text/plain": [
       "<function matplotlib.pyplot.show(*args, **kw)>"
      ]
     },
     "execution_count": 16,
     "metadata": {},
     "output_type": "execute_result"
    },
    {
     "data": {
      "image/png": "[encoded data removed]",
      "text/plain": [
       "<Figure size 288x288 with 2 Axes>"
      ]
     },
     "metadata": {},
     "output_type": "display_data"
    }
   ],
   "source": [
    "from sklearn.metrics import confusion_matrix\n",
    "from matplotlib.colors import ListedColormap\n",
    "\n",
    "test_label = te_Y_B1\n",
    "cf = confusion_matrix(test_label, predB1)\n",
    "print(cf)\n",
    "\n",
    "cmap = plt.cm.Blues\n",
    "\n",
    "plt.matshow(cf, cmap = cmap)\n",
    "plt.title('Confusion matrix')\n",
    "plt.colorbar()\n",
    "plt.xlabel('predicted')\n",
    "plt.ylabel('actual')\n",
    "plt.show"
   ]
  },
  {
   "cell_type": "code",
   "execution_count": null,
   "metadata": {},
   "outputs": [],
   "source": []
  }
 ],
 "metadata": {
  "kernelspec": {
   "display_name": "Python 2",
   "language": "python",
   "name": "python2"
  },
  "language_info": {
   "codemirror_mode": {
    "name": "ipython",
    "version": 2
   },
   "file_extension": ".py",
   "mimetype": "text/x-python",
   "name": "python",
   "nbconvert_exporter": "python",
   "pygments_lexer": "ipython2",
   "version": "2.7.6"
  }
 },
 "nbformat": 4,
 "nbformat_minor": 0
}
