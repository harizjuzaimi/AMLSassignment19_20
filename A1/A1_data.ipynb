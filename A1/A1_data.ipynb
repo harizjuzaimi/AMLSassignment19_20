{
 "cells": [
  {
   "cell_type": "code",
   "execution_count": 4,
   "metadata": {
    "collapsed": true
   },
   "outputs": [
    {
     "name": "stdout",
     "output_type": "stream",
     "text": [
      "C:\\Users\\arez_\\PycharmProjects\\AMLS_19-20_Muhammad_Juzaimi_SN16072927\\AMLS_19-20_SN16072927\\A1\n"
     ]
    }
   ],
   "source": [
    "import os\n",
    "\n",
    "# os.chdir('./AMLS_19-20_Muhammad_Juzaimi_SN16072927')\n",
    "# os.chdir('./AMLS_19-20_SN16072927')\n",
    "os.chdir('./A1')\n",
    "print(os.path.abspath(os.curdir))\n"
   ]
  },
  {
   "cell_type": "code",
   "execution_count": 6,
   "metadata": {},
   "outputs": [
    {
     "name": "stderr",
     "output_type": "stream",
     "text": [
      "Using TensorFlow backend.\n"
     ]
    },
    {
     "name": "stdout",
     "output_type": "stream",
     "text": [
      "[[[ 59 113]\n  [ 57 123]\n  [ 57 133]\n  ...\n  [ 88 163]\n  [ 83 163]\n  [ 78 161]]\n\n [[ 55 110]\n  [ 54 120]\n  [ 54 131]\n  ...\n  [ 89 163]\n  [ 83 163]\n  [ 78 161]]\n\n [[ 44 102]\n  [ 45 115]\n  [ 47 127]\n  ...\n  [ 94 160]\n  [ 89 161]\n  [ 84 161]]\n\n ...\n\n [[ 48 115]\n  [ 50 126]\n  [ 52 137]\n  ...\n  [ 91 158]\n  [ 87 158]\n  [ 83 157]]\n\n [[ 60 116]\n  [ 59 125]\n  [ 60 134]\n  ...\n  [ 89 153]\n  [ 85 153]\n  [ 80 152]]\n\n [[ 52 111]\n  [ 52 121]\n  [ 53 132]\n  ...\n  [ 91 158]\n  [ 86 158]\n  [ 81 157]]]\n[[ 0.  1.]\n [ 0.  1.]\n [ 0.  1.]\n ...\n [ 0.  1.]\n [ 1. -0.]\n [ 0.  1.]]\n"
     ]
    }
   ],
   "source": [
    "# os.chdir('./A1')\n",
    "\n",
    "import A1_landmarks as l1\n",
    "import numpy as np \n",
    "\n",
    "def get_data():\n",
    "\n",
    "    X, y = l1.extract_features_labels()\n",
    "    Y = np.array([y, -(y - 1)]).T\n",
    "    \n",
    "    return X, Y\n",
    "X, Y = get_data()\n",
    "print(X)\n",
    "print(Y)"
   ]
  },
  {
   "cell_type": "code",
   "execution_count": 6,
   "metadata": {},
   "outputs": [
    {
     "name": "stdout",
     "output_type": "stream",
     "text": [
      "4803\n4803\n"
     ]
    }
   ],
   "source": [
    "print(len(X))\n",
    "print(len(Y))"
   ]
  },
  {
   "cell_type": "code",
   "execution_count": 15,
   "metadata": {},
   "outputs": [],
   "source": [
    "from sklearn.preprocessing import StandardScaler\n",
    "\n",
    "temp = X.reshape(len(X), 68*2)\n",
    "\n",
    "scaler = StandardScaler()\n",
    "temp_X = scaler.fit_transform(temp)\n"
   ]
  },
  {
   "cell_type": "code",
   "execution_count": 16,
   "metadata": {},
   "outputs": [
    {
     "name": "stdout",
     "output_type": "stream",
     "text": [
      "4803\n[[ 1.39723694 -0.03505051  1.23277142 ...  1.51293901 -1.58053177\n   1.20255988]\n [ 0.98432657 -0.68840479  0.90328998 ...  1.51293901 -1.58053177\n   1.20255988]\n [-0.15117695 -2.43068286 -0.08515434 ...  0.97787929  0.16332384\n   1.20255988]\n ...\n [ 0.26173342  0.400519    0.46398139 ...  0.17528971 -0.12731877\n   0.07955495]\n [ 1.50046453  0.61830376  1.45242571 ... -1.16235959 -0.99924657\n  -1.32420121]\n [ 0.67464379 -0.47062003  0.68363569 ...  0.17528971 -0.70860397\n   0.07955495]]\n"
     ]
    }
   ],
   "source": [
    "print(len(temp_X))\n",
    "print(temp_X)"
   ]
  },
  {
   "cell_type": "code",
   "execution_count": 16,
   "metadata": {},
   "outputs": [],
   "source": [
    "import pickle\n",
    "\n",
    "with open('X_saved.dat', 'wb') as f:\n",
    "    pickle.dump(temp_X, f) \n",
    "    \n",
    "with open('Y_saved.dat', 'wb') as f:\n",
    "    pickle.dump(Y, f) \n"
   ]
  },
  {
   "cell_type": "code",
   "execution_count": 17,
   "metadata": {},
   "outputs": [],
   "source": [
    "with open('X_saved.dat', 'rb') as f:\n",
    "    X_load = pickle.load(f)\n",
    "    \n",
    "with open('Y_saved.dat', 'rb') as f:\n",
    "    Y_load = pickle.load(f)"
   ]
  },
  {
   "cell_type": "code",
   "execution_count": 18,
   "metadata": {},
   "outputs": [
    {
     "name": "stdout",
     "output_type": "stream",
     "text": [
      "4803\n[[ 1.39723694 -0.03505051  1.23277142 ...  1.51293901 -1.58053177\n   1.20255988]\n [ 0.98432657 -0.68840479  0.90328998 ...  1.51293901 -1.58053177\n   1.20255988]\n [-0.15117695 -2.43068286 -0.08515434 ...  0.97787929  0.16332384\n   1.20255988]\n ...\n [ 0.26173342  0.400519    0.46398139 ...  0.17528971 -0.12731877\n   0.07955495]\n [ 1.50046453  0.61830376  1.45242571 ... -1.16235959 -0.99924657\n  -1.32420121]\n [ 0.67464379 -0.47062003  0.68363569 ...  0.17528971 -0.70860397\n   0.07955495]]\n4803\n[[ 0.  1.]\n [ 0.  1.]\n [ 0.  1.]\n ...\n [ 0.  1.]\n [ 1. -0.]\n [ 0.  1.]]\n"
     ]
    }
   ],
   "source": [
    "print(len(X_load))\n",
    "print(X_load)\n",
    "print(len(Y_load))\n",
    "print(Y_load)"
   ]
  },
  {
   "cell_type": "code",
   "execution_count": 19,
   "metadata": {},
   "outputs": [],
   "source": [
    "from sklearn.model_selection import train_test_split\n",
    "\n",
    "tr_X, te_X, tr_Y, te_Y = train_test_split(X_load, Y_load, test_size=0.3)"
   ]
  },
  {
   "cell_type": "code",
   "execution_count": 20,
   "metadata": {},
   "outputs": [
    {
     "name": "stdout",
     "output_type": "stream",
     "text": [
      "3362\n1441\n3362\n1441\n"
     ]
    }
   ],
   "source": [
    "print(len(tr_X))\n",
    "print(len(te_X))\n",
    "print(len(tr_Y))\n",
    "print(len(te_Y))"
   ]
  },
  {
   "cell_type": "code",
   "execution_count": 1,
   "metadata": {},
   "outputs": [
    {
     "ename": "NameError",
     "evalue": "name 'Y' is not defined",
     "traceback": [
      "\u001b[1;31m---------------------------------------------------------------------------\u001b[0m",
      "\u001b[1;31mNameError\u001b[0m                                 Traceback (most recent call last)",
      "\u001b[1;32m<ipython-input-1-47f69fb3d5a2>\u001b[0m in \u001b[0;36m<module>\u001b[1;34m\u001b[0m\n\u001b[1;32m----> 1\u001b[1;33m \u001b[0mprint\u001b[0m\u001b[1;33m(\u001b[0m\u001b[0mY\u001b[0m\u001b[1;33m)\u001b[0m\u001b[1;33m\u001b[0m\u001b[1;33m\u001b[0m\u001b[0m\n\u001b[0m",
      "\u001b[1;31mNameError\u001b[0m: name 'Y' is not defined"
     ],
     "output_type": "error"
    }
   ],
   "source": [
    "print(Y)"
   ]
  },
  {
   "cell_type": "code",
   "execution_count": null,
   "metadata": {},
   "outputs": [],
   "source": []
  }
 ],
 "metadata": {
  "kernelspec": {
   "display_name": "Python 2",
   "language": "python",
   "name": "python2"
  },
  "language_info": {
   "codemirror_mode": {
    "name": "ipython",
    "version": 2
   },
   "file_extension": ".py",
   "mimetype": "text/x-python",
   "name": "python",
   "nbconvert_exporter": "python",
   "pygments_lexer": "ipython2",
   "version": "2.7.6"
  }
 },
 "nbformat": 4,
 "nbformat_minor": 0
}
