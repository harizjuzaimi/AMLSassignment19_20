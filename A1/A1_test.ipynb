{
 "cells": [
  {
   "cell_type": "code",
   "execution_count": 1,
   "metadata": {
    "collapsed": true
   },
   "outputs": [
    {
     "name": "stdout",
     "output_type": "stream",
     "text": [
      "C:\\Users\\arez_\\PycharmProjects\\AMLS_19-20_Muhammad_Juzaimi_SN16072927\n"
     ]
    }
   ],
   "source": [
    "import os\n",
    "import numpy as np\n",
    "import matplotlib.pyplot as plt\n",
    "from sklearn import svm\n",
    "from sklearn.model_selection import train_test_split\n",
    "from sklearn.utils import shuffle\n",
    "from sklearn.metrics import classification_report, accuracy_score\n",
    "import pandas as pd\n",
    "\n",
    "\n",
    "print(os.path.abspath(os.curdir))\n",
    "\n"
   ]
  },
  {
   "cell_type": "code",
   "execution_count": 3,
   "metadata": {},
   "outputs": [
    {
     "name": "stdout",
     "output_type": "stream",
     "text": [
      "C:\\Users\\arez_\\PycharmProjects\\AMLS_19-20_Muhammad_Juzaimi_SN16072927\\AMLS_19-20_SN16072927\n"
     ]
    }
   ],
   "source": [
    "os.chdir('./AMLS_19-20_SN16072927')\n",
    "# os.chdir('./A1')\n",
    "print(os.path.abspath(os.curdir))"
   ]
  },
  {
   "cell_type": "code",
   "execution_count": 4,
   "metadata": {},
   "outputs": [],
   "source": [
    "from data_preprocessing import get_data_A1\n",
    "\n",
    "tr_X_A1, te_X_A1, tr_Y_A1, te_Y_A1 = get_data_A1()"
   ]
  },
  {
   "cell_type": "code",
   "execution_count": 8,
   "metadata": {},
   "outputs": [
    {
     "name": "stdout",
     "output_type": "stream",
     "text": [
      "Best SVM parameter: {'C': 100, 'gamma': 0.001, 'kernel': 'rbf'}\nBest SVM score: 0.9190975907450648\n      C   gamma  kernel  degree  Accuracy\n0     1  0.0010     rbf     NaN  0.895297\n1     1  0.0001     rbf     NaN  0.860792\n2    10  0.0010     rbf     NaN  0.917903\n3    10  0.0001     rbf     NaN  0.894404\n4   100  0.0010     rbf     NaN  0.919098\n5   100  0.0001     rbf     NaN  0.918796\n6     1     NaN    poly     2.0  0.716545\n7     1     NaN    poly     3.0  0.872096\n8    10     NaN    poly     2.0  0.744797\n9    10     NaN    poly     3.0  0.897380\n10  100     NaN    poly     2.0  0.726355\n11  100     NaN    poly     3.0  0.884295\n12    1     NaN  linear     NaN  0.914040\n13   10     NaN  linear     NaN  0.912852\n14  100     NaN  linear     NaN  0.911364\n"
     ]
    }
   ],
   "source": [
    "from sklearn.model_selection import GridSearchCV\n",
    "\n",
    "def SVM_A1(training_images, training_labels, test_images, test_labels):\n",
    "    \n",
    "    tuned_parameters = [{'kernel': ['rbf'], 'gamma': [1e-3, 1e-4], 'C': [1, 10, 100]}, \n",
    "                        {'kernel': ['poly'], 'degree': [2, 3], 'C': [1, 10, 100]},\n",
    "                        {'kernel': ['linear'], 'C': [1, 10, 100]}\n",
    "                        ]\n",
    "    \n",
    "    classifierA1 = GridSearchCV(svm.SVC(), tuned_parameters, n_jobs=-1)       #gridsearchCV use 5 k-fold by default\n",
    "    classifierA1.fit(training_images, training_labels)\n",
    "\n",
    "# default score of SVM is accuracy\n",
    "    print(\"Best SVM parameter:\", classifierA1.best_params_)\n",
    "    print(\"Best SVM score:\", classifierA1.best_score_)\n",
    "      \n",
    "    \n",
    "    results = pd.concat([pd.DataFrame(classifierA1.cv_results_[\"params\"]),pd.DataFrame(classifierA1.cv_results_[\"mean_test_score\"], columns=[\"Accuracy\"])],axis=1)\n",
    "    print(results)  \n",
    "    \n",
    "# make prediction using the best classifier\n",
    "    predA1 = classifierA1.best_estimator_.predict(test_images)\n",
    "    \n",
    "    return predA1 \n",
    "\n",
    "\n",
    "model_A1 = SVM_A1(tr_X_A1, tr_Y_A1, te_X_A1, te_Y_A1)"
   ]
  },
  {
   "cell_type": "code",
   "execution_count": 10,
   "metadata": {},
   "outputs": [
    {
     "name": "stdout",
     "output_type": "stream",
     "text": [
      "Accuracy: 0.9167244968771686\n"
     ]
    }
   ],
   "source": [
    "print(\"Accuracy:\", accuracy_score(te_Y_A1, model_A1))"
   ]
  },
  {
   "cell_type": "code",
   "execution_count": 11,
   "metadata": {},
   "outputs": [
    {
     "data": {
      "image/png": "[encoded data removed]",
      "text/plain": [
       "<Figure size 432x288 with 1 Axes>"
      ]
     },
     "metadata": {},
     "output_type": "display_data"
    }
   ],
   "source": [
    "from sklearn.model_selection import learning_curve\n",
    "from sklearn.model_selection import ShuffleSplit\n",
    "\n",
    "def plot_learning_curve(estimator, title, X, y, ylim=None, cv=None,\n",
    "                        n_jobs=1, train_sizes=np.linspace(.1, 1.0, 5)):\n",
    "    \n",
    "    plt.figure()\n",
    "    plt.title(title)\n",
    "    if ylim is not None:\n",
    "        plt.ylim(*ylim)\n",
    "    plt.xlabel(\"Training examples\")\n",
    "    plt.ylabel(\"Score\")\n",
    "    train_sizes, train_scores, test_scores = learning_curve(\n",
    "        estimator, X, y, cv=cv, n_jobs=n_jobs, train_sizes=train_sizes)\n",
    "    train_scores_mean = np.mean(train_scores, axis=1)\n",
    "    train_scores_std = np.std(train_scores, axis=1)\n",
    "    test_scores_mean = np.mean(test_scores, axis=1)\n",
    "    test_scores_std = np.std(test_scores, axis=1)\n",
    "    plt.grid()\n",
    "\n",
    "    plt.fill_between(train_sizes, train_scores_mean - train_scores_std,\n",
    "                     train_scores_mean + train_scores_std, alpha=0.1,\n",
    "                     color=\"r\")\n",
    "    plt.fill_between(train_sizes, test_scores_mean - test_scores_std,\n",
    "                     test_scores_mean + test_scores_std, alpha=0.1, color=\"g\")\n",
    "    plt.plot(train_sizes, train_scores_mean, 'o-', color=\"r\",\n",
    "             label=\"Training score\")\n",
    "    plt.plot(train_sizes, test_scores_mean, 'o-', color=\"g\",\n",
    "             label=\"Cross-validation score\")\n",
    "\n",
    "    plt.legend(loc=\"best\")\n",
    "    return plt\n",
    "\n",
    "title = \"Learning Curves SVM\"\n",
    "\n",
    "cv = ShuffleSplit(n_splits=100, test_size=0.2, random_state=0)\n",
    "estimator = svm.SVC(kernel='rbf', gamma=1e-3, C=100)\n",
    "X, y = tr_X_A1, tr_Y_A1 \n",
    "plot_learning_curve(estimator, title, X, y, (0.85, 1.01), cv=cv, n_jobs=-1)\n",
    "\n",
    "plt.show()\n",
    "\n",
    "# default test score for SVM is accuracy"
   ]
  },
  {
   "cell_type": "code",
   "execution_count": 13,
   "metadata": {},
   "outputs": [
    {
     "name": "stdout",
     "output_type": "stream",
     "text": [
      "[[641  69]\n [ 51 680]]\n"
     ]
    },
    {
     "data": {
      "text/plain": [
       "<function matplotlib.pyplot.show(*args, **kw)>"
      ]
     },
     "execution_count": 13,
     "metadata": {},
     "output_type": "execute_result"
    },
    {
     "data": {
      "image/png": "[encoded data removed]",
      "text/plain": [
       "<Figure size 288x288 with 2 Axes>"
      ]
     },
     "metadata": {},
     "output_type": "display_data"
    }
   ],
   "source": [
    "from sklearn.metrics import confusion_matrix\n",
    "from matplotlib.colors import ListedColormap\n",
    "\n",
    "\n",
    "cf = confusion_matrix(te_Y_A1, model_A1)\n",
    "print(cf)\n",
    "\n",
    "cmap = plt.cm.Blues\n",
    "\n",
    "plt.matshow(cf, cmap = cmap)\n",
    "plt.title('Confusion matrix')\n",
    "plt.colorbar()\n",
    "plt.xlabel('predicted')\n",
    "plt.ylabel('actual')\n",
    "plt.show"
   ]
  }
 ],
 "metadata": {
  "kernelspec": {
   "display_name": "Python 2",
   "language": "python",
   "name": "python2"
  },
  "language_info": {
   "codemirror_mode": {
    "name": "ipython",
    "version": 2
   },
   "file_extension": ".py",
   "mimetype": "text/x-python",
   "name": "python",
   "nbconvert_exporter": "python",
   "pygments_lexer": "ipython2",
   "version": "2.7.6"
  }
 },
 "nbformat": 4,
 "nbformat_minor": 0
}
