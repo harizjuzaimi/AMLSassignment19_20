{
 "cells": [
  {
   "cell_type": "code",
   "execution_count": 50,
   "metadata": {
    "collapsed": true
   },
   "outputs": [
    {
     "name": "stdout",
     "output_type": "stream",
     "text": [
      "C:\\Users\\arez_\\PycharmProjects\\AMLS_19-20_Muhammad_Juzaimi_SN16072927\\AMLS_19-20_SN16072927\\Data\n"
     ]
    }
   ],
   "source": [
    "import os\n",
    "import numpy as np\n",
    "import matplotlib.pyplot as plt\n",
    "from sklearn import svm\n",
    "from sklearn.utils import shuffle\n",
    "\n",
    "\n",
    "\n",
    "print(os.path.abspath(os.curdir))\n",
    "\n"
   ]
  },
  {
   "cell_type": "code",
   "execution_count": 55,
   "metadata": {},
   "outputs": [
    {
     "name": "stdout",
     "output_type": "stream",
     "text": [
      "C:\\Users\\arez_\\PycharmProjects\\AMLS_19-20_Muhammad_Juzaimi_SN16072927\\AMLS_19-20_SN16072927\\Data\n"
     ]
    }
   ],
   "source": [
    "# os.chdir('./AMLS_19-20_SN16072927')\n",
    "# os.chdir('./A1')\n",
    "os.chdir('./Data')\n",
    "print(os.path.abspath(os.curdir))"
   ]
  },
  {
   "cell_type": "code",
   "execution_count": 56,
   "metadata": {},
   "outputs": [],
   "source": [
    "from data_preprocessing import get_data_A1\n",
    "\n",
    "tr_X_A1, te_X_A1, tr_Y_A1, te_Y_A1 = get_data_A1()"
   ]
  },
  {
   "cell_type": "code",
   "execution_count": 57,
   "metadata": {},
   "outputs": [],
   "source": [
    "from sklearn.model_selection import GridSearchCV\n",
    "import pandas as pd\n",
    "from IPython.display import display\n",
    "\n",
    "def SVM_A1(training_images, training_labels, test_images, test_labels):\n",
    "    \n",
    "    tuned_parameters = [{'kernel': ['rbf'], 'gamma': [1e-3, 1e-4], 'C': [1, 10, 100]}, \n",
    "                        {'kernel': ['poly'], 'degree': [2, 3], 'C': [1, 10, 100]},\n",
    "                        {'kernel': ['linear'], 'C': [1, 10, 100]}\n",
    "                        ]\n",
    "    \n",
    "    classifierA1 = GridSearchCV(svm.SVC(), tuned_parameters, n_jobs=-1)       #gridsearchCV use 5 k-fold by default\n",
    "    classifierA1.fit(training_images, training_labels)\n",
    "    classifierA1_best = classifierA1.best_estimator_\n",
    "\n",
    "# default score of SVM is accuracy\n",
    "    print(\"Best SVM parameter:\", classifierA1.best_params_)\n",
    "    print(\"Best SVM score:\", classifierA1.best_score_)\n",
    "\n",
    "# print dataframe  \n",
    "    results = pd.concat([pd.DataFrame(classifierA1.cv_results_[\"params\"]), pd.DataFrame(classifierA1.cv_results_[\"mean_test_score\"], columns=[\"Accuracy\"])], axis=1)\n",
    "       \n",
    "# make prediction using the best classifier\n",
    "    predA1 = classifierA1.best_estimator_.predict(test_images)\n",
    "    \n",
    "    return predA1, results, classifierA1_best\n",
    "\n",
    "\n"
   ]
  },
  {
   "cell_type": "code",
   "execution_count": 58,
   "metadata": {},
   "outputs": [
    {
     "name": "stdout",
     "output_type": "stream",
     "text": [
      "Best SVM parameter: {'C': 100, 'gamma': 0.001, 'kernel': 'rbf'}\nBest SVM score: 0.9187999716974456\n206.87978219985962\n"
     ]
    }
   ],
   "source": [
    "import time\n",
    "\n",
    "starttime = time.time()\n",
    "predA1, results, classifierA1_best = SVM_A1(tr_X_A1, tr_Y_A1, te_X_A1, te_Y_A1)\n",
    "stoptime = time.time()\n",
    "print(stoptime - starttime)"
   ]
  },
  {
   "cell_type": "code",
   "execution_count": 61,
   "metadata": {},
   "outputs": [
    {
     "name": "stdout",
     "output_type": "stream",
     "text": [
      "Accuracy: 0.922970159611381\nPrecision: 0.9209809264305178\nRecall: 0.9272976680384087\nF1: 0.9241285030758715\n"
     ]
    }
   ],
   "source": [
    "from sklearn.metrics import accuracy_score, precision_score, recall_score, f1_score\n",
    "\n",
    "print(\"Accuracy:\", accuracy_score(te_Y_A1, predA1))\n",
    "print(\"Precision:\", precision_score(te_Y_A1, predA1))\n",
    "print(\"Recall:\", recall_score(te_Y_A1, predA1))\n",
    "print(\"F1:\", f1_score(te_Y_A1, predA1))\n",
    "\n"
   ]
  },
  {
   "cell_type": "code",
   "execution_count": 68,
   "metadata": {},
   "outputs": [
    {
     "name": "stdout",
     "output_type": "stream",
     "text": [
      "[0.9905597  0.97742268 0.97168471 0.96785886 0.96588695]\n[0.87341753 0.89973254 0.91046062 0.91592868 0.91928678]\n"
     ]
    },
    {
     "data": {
      "image/png": "[encoded data removed]",
      "text/plain": [
       "<Figure size 432x288 with 1 Axes>"
      ]
     },
     "metadata": {},
     "output_type": "display_data"
    }
   ],
   "source": [
    "from sklearn.model_selection import learning_curve\n",
    "from sklearn.model_selection import ShuffleSplit\n",
    "\n",
    "def plot_learning_curve(estimator, title, X, y, ylim=None, cv=None,\n",
    "                        n_jobs=1, train_sizes=np.linspace(.1, 1.0, 5)):\n",
    "    \n",
    "    plt.figure()\n",
    "    plt.title(title)\n",
    "    if ylim is not None:\n",
    "        plt.ylim(*ylim)\n",
    "    plt.xlabel(\"Training examples\")\n",
    "    plt.ylabel(\"Score\")\n",
    "    train_sizes, train_scores, test_scores = learning_curve(\n",
    "        estimator, X, y, cv=cv, n_jobs=n_jobs, train_sizes=train_sizes)\n",
    "    train_scores_mean = np.mean(train_scores, axis=1)\n",
    "    train_scores_std = np.std(train_scores, axis=1)\n",
    "    test_scores_mean = np.mean(test_scores, axis=1)\n",
    "    test_scores_std = np.std(test_scores, axis=1)\n",
    "    plt.grid()\n",
    "\n",
    "    plt.fill_between(train_sizes, train_scores_mean - train_scores_std,\n",
    "                     train_scores_mean + train_scores_std, alpha=0.1,\n",
    "                     color=\"r\")\n",
    "    plt.fill_between(train_sizes, test_scores_mean - test_scores_std,\n",
    "                     test_scores_mean + test_scores_std, alpha=0.1, color=\"g\")\n",
    "    plt.plot(train_sizes, train_scores_mean, 'o-', color=\"r\",\n",
    "             label=\"Training score\")\n",
    "    plt.plot(train_sizes, test_scores_mean, 'o-', color=\"g\",\n",
    "             label=\"Cross-validation score\")\n",
    "\n",
    "    plt.legend(loc=\"best\")\n",
    "    \n",
    "    print(train_scores_mean)\n",
    "    print(test_scores_mean)\n",
    "    \n",
    "    return plt\n",
    "\n",
    "title = \"Learning Curves SVM\"\n",
    "\n",
    "cv = ShuffleSplit(n_splits=100, test_size=0.2, random_state=0)\n",
    "estimator = classifierA1_best\n",
    "X, y = tr_X_A1, tr_Y_A1 \n",
    "plot_learning_curve(estimator, title, X, y, (0.8, 1.01), cv=cv, n_jobs=-1)\n",
    "\n",
    "plt.show()\n",
    "\n",
    "# default test score for SVM is accuracy"
   ]
  },
  {
   "cell_type": "code",
   "execution_count": 63,
   "metadata": {},
   "outputs": [
    {
     "data": {
      "image/png": "[encoded data removed]",
      "text/plain": [
       "<Figure size 360x360 with 2 Axes>"
      ]
     },
     "metadata": {},
     "output_type": "display_data"
    }
   ],
   "source": [
    "import itertools\n",
    "from sklearn.metrics import confusion_matrix\n",
    "\n",
    "def plot_confusion_matrix(cm, classes,normalize=False):\n",
    "    plt.figure(figsize = (5,5))\n",
    "    plt.imshow(cm, interpolation='nearest', cmap=plt.cm.Blues)\n",
    "    plt.title('Confusion matrix')\n",
    "    plt.colorbar()\n",
    "    tick_marks = np.arange(len(classes))\n",
    "    plt.xticks(tick_marks, classes)\n",
    "    plt.yticks(tick_marks, classes)\n",
    "    if normalize:\n",
    "        cm = cm.astype('float') / cm.sum(axis=1)[:, np.newaxis]\n",
    "\n",
    "    thresh = cm.max() / 2.\n",
    "    for i, j in itertools.product(range(cm.shape[0]), range(cm.shape[1])):\n",
    "        plt.text(j, i, cm[i, j],\n",
    "                 horizontalalignment=\"center\",\n",
    "                 color=\"white\" if cm[i, j] > thresh else \"black\")\n",
    "    plt.tight_layout()\n",
    "    plt.ylabel('Actual')\n",
    "    plt.xlabel('Predicted')\n",
    "    \n",
    "dict_characters = {0 : 'Female', 1: 'Male'}\n",
    "\n",
    "\n",
    "confusion_mat = confusion_matrix(te_Y_A1, predA1)\n",
    "plot_confusion_matrix(confusion_mat, classes = list(dict_characters.values()))"
   ]
  },
  {
   "cell_type": "code",
   "execution_count": 65,
   "metadata": {},
   "outputs": [
    {
     "name": "stdout",
     "output_type": "stream",
     "text": [
      "4803\n"
     ]
    }
   ],
   "source": [
    "print(len(tr_X_A1) + len(te_X_A1))"
   ]
  },
  {
   "cell_type": "code",
   "execution_count": null,
   "metadata": {},
   "outputs": [],
   "source": []
  }
 ],
 "metadata": {
  "kernelspec": {
   "display_name": "Python 2",
   "language": "python",
   "name": "python2"
  },
  "language_info": {
   "codemirror_mode": {
    "name": "ipython",
    "version": 2
   },
   "file_extension": ".py",
   "mimetype": "text/x-python",
   "name": "python",
   "nbconvert_exporter": "python",
   "pygments_lexer": "ipython2",
   "version": "2.7.6"
  }
 },
 "nbformat": 4,
 "nbformat_minor": 0
}
